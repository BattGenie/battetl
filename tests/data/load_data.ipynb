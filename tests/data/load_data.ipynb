{
 "cells": [
  {
   "cell_type": "code",
   "execution_count": 51,
   "metadata": {},
   "outputs": [],
   "source": [
    "import os\n",
    "import re\n",
    "import json\n",
    "import dotenv\n",
    "from pathlib import Path\n",
    "from battetl import BattETL"
   ]
  },
  {
   "attachments": {},
   "cell_type": "markdown",
   "metadata": {},
   "source": [
    "## Set env"
   ]
  },
  {
   "cell_type": "code",
   "execution_count": 52,
   "metadata": {},
   "outputs": [
    {
     "name": "stdout",
     "output_type": "stream",
     "text": [
      "Check target database \"battdb\"\n"
     ]
    }
   ],
   "source": [
    "dotenv.load_dotenv()\n",
    "print(f'Check target database \"{os.getenv(\"DB_TARGET\")}\"')"
   ]
  },
  {
   "attachments": {},
   "cell_type": "markdown",
   "metadata": {},
   "source": [
    "## Create config"
   ]
  },
  {
   "cell_type": "code",
   "execution_count": 50,
   "metadata": {},
   "outputs": [
    {
     "name": "stdout",
     "output_type": "stream",
     "text": [
      "Check data folder \"/Users/zander/Desktop/battetl/tests/data\"\n",
      ">> Found 0 data files.\n",
      "\n",
      ">> Found 0 stats files.\n",
      "\n",
      ">> Found 0 schedule files.\n",
      "\n"
     ]
    }
   ],
   "source": [
    "DATA_FOLDER = os.path.abspath('')\n",
    "print(f'Check data folder \"{DATA_FOLDER}\"')\n",
    "\n",
    "data_files = []\n",
    "stats_files = []\n",
    "schedule_files = []\n",
    "# list files in data folder\n",
    "for file in os.listdir(DATA_FOLDER):\n",
    "    # Maccor: Check if file name ends with number.txt\n",
    "    if re.search(r'\\d+\\.txt$', file):\n",
    "        data_files.append(os.path.join(DATA_FOLDER, file))\n",
    "\n",
    "    # Maccor: Check if file name ends with [STATS].txt\n",
    "    elif re.search(r'\\[STATS\\]\\.txt$', file):\n",
    "        stats_files.append(os.path.join(DATA_FOLDER, file))\n",
    "\n",
    "    # Maccor: Check if file name ends with .000\n",
    "    elif re.search(r'\\.000$', file):\n",
    "        schedule_files.append(os.path.join(DATA_FOLDER, file))\n",
    "\n",
    "    # Check: Check if Arbin data file\n",
    "    elif ('Wb' in re.split('_',file) and re.split('_',file)[-1].endswith('.CSV')):\n",
    "        data_files.append(os.path.join(DATA_FOLDER, file))\n",
    "\n",
    "    # Arbin : Stats file\n",
    "    elif re.search(r'StatisticByCycle.CSV$', file):\n",
    "        stats_files.append(os.path.join(DATA_FOLDER, file))\n",
    "\n",
    "    # Maccor: Check if file schedule file\n",
    "    elif re.search(r'.sdx$', file):\n",
    "        schedule_files.append(os.path.join(DATA_FOLDER, file))\n",
    "\n",
    "# Sort files by name, ascending\n",
    "data_files.sort(reverse=False)\n",
    "stats_files.sort(reverse=False)\n",
    "\n",
    "print(f'>> Found {len(data_files)} data files.')\n",
    "print('\\n'.join(data_files))\n",
    "print(f'>> Found {len(stats_files)} stats files.')\n",
    "print('\\n'.join(stats_files))\n",
    "print(f'>> Found {len(schedule_files)} schedule files.')\n",
    "print('\\n'.join(schedule_files))"
   ]
  },
  {
   "cell_type": "code",
   "execution_count": 7,
   "metadata": {},
   "outputs": [],
   "source": [
    "config = {\n",
    "    \"timezone\": \"America/Los_Angeles\",\n",
    "    \"data_file_path\": data_files,\n",
    "    \"stats_file_path\": stats_files,\n",
    "    \"schedule_file_path\": schedule_files,\n",
    "    \"target_databases\": [\n",
    "        os.getenv(\"DB_TARGET\"),\n",
    "    ],\n",
    "    \"meta_data\": {\n",
    "        \"test_meta\": {\n",
    "            \"cell_id\": None,\n",
    "            \"schedule_id\": None,\n",
    "            # Get test name from first data file. The name is before first space.\n",
    "            \"test_name\": os.path.basename(data_files[0]).split(' ', 1)[0],\n",
    "            \"start_date\": '2020-10-06',\n",
    "            \"end_date\": '2020-10-11',\n",
    "            # Get the channel number from the first data file. The number is before the first dot.\n",
    "            \"channel\": int(os.path.basename(data_files[0]).split('.', 1)[0].split(' ')[-1]),\n",
    "            \"ev_chamber\": 6,\n",
    "            \"ev_chamber_slot\": 12,\n",
    "            \"thermocouples\": None,\n",
    "            \"thermocouple_channels\": None,\n",
    "            \"comments\": \"Ran at 45 degrees C\",\n",
    "            \"project_id\": None,\n",
    "            \"test_capacity_mah\": 2650,\n",
    "            \"potentiostat_id\": None,\n",
    "            \"cycler_id\": None,\n",
    "        },\n",
    "        \"cell\": {\n",
    "            \"cell_type_id\": None,\n",
    "            \"batch_number\": \"BATCH_NUMBER\", \n",
    "            \"label\": \"24\",\n",
    "            \"date_received\": \"2020-09-01\",\n",
    "            \"comments\": None,\n",
    "            \"date_manufactured\": None,\n",
    "            \"manufacturer_sn\": \"BattGenie_SN\",\n",
    "            \"dims\": None,\n",
    "            \"weight_g\": None,\n",
    "            \"first_received_at_voltage_mv\": None,\n",
    "        },\n",
    "        \"cell_meta\": {\n",
    "            \"manufacturer\": \"BattGenie\",\n",
    "            \"manufacturer_pn\": \"BattGenie_PN\",\n",
    "            \"form_factor\": \"pouch\",\n",
    "            \"capacity_mah\": 2720,\n",
    "            \"chemistry\": None,\n",
    "            \"dimensions\": '{\"x_mm\":\"54.25\", \"y_mm\":106.96, \"z_mm\":3.19}',\n",
    "        },\n",
    "        \"schedule_meta\": {\n",
    "            \"schedule_name\": \"BG_Characterization_v1\",\n",
    "            \"test_type\": \"Characterization\",\n",
    "            \"cycler_make\": \"Maccor\",\n",
    "            \"date_created\": \"2020-10-06\",\n",
    "            \"created_by\": \"BattGenie\",\n",
    "            \"comments\": None,\n",
    "            \"cv_voltage_threshold_mv\": None,\n",
    "            \"schedule_files\": None,\n",
    "        },\n",
    "        \"cycler\": {\n",
    "            \"sn\": \"SN\",\n",
    "            \"calibration_date\": None,\n",
    "            \"calibration_due_date\": None,\n",
    "            \"location\": \"BattGenie\",\n",
    "            \"timezone_based\": None,\n",
    "        },\n",
    "        \"cycler_meta\": {\n",
    "            \"manufacturer\": \"Maccor\",\n",
    "            \"model\": \"SERIES 4000M\",\n",
    "            \"datasheet\": None,\n",
    "            \"num_channels\": None,\n",
    "            \"lower_current_limit_a\": None,\n",
    "            \"upper_current_limit_a\": None,\n",
    "            \"lower_voltage_limit_v\": None,\n",
    "            \"upper_voltage_limit_v\": None,\n",
    "        }\n",
    "    }\n",
    "}\n",
    "\n",
    "# Deep remove None values from config\n",
    "config = {k: v for k, v in config.items() if v is not None}\n",
    "config['meta_data'] = {k: v for k, v in config['meta_data'].items() if v is not None}\n",
    "config['meta_data']['test_meta'] = {k: v for k, v in config['meta_data']['test_meta'].items() if v is not None}\n",
    "config['meta_data']['cell'] = {k: v for k, v in config['meta_data']['cell'].items() if v is not None}\n",
    "config['meta_data']['cell_meta'] = {k: v for k, v in config['meta_data']['cell_meta'].items() if v is not None}\n",
    "config['meta_data']['schedule_meta'] = {k: v for k, v in config['meta_data']['schedule_meta'].items() if v is not None}\n",
    "config['meta_data']['cycler'] = {k: v for k, v in config['meta_data']['cycler'].items() if v is not None}\n",
    "config['meta_data']['cycler_meta'] = {k: v for k, v in config['meta_data']['cycler_meta'].items() if v is not None}\n",
    "\n",
    "# Save config to file\n",
    "with open('config.json', 'w') as f:\n",
    "    json.dump(config, f, indent=4)"
   ]
  },
  {
   "attachments": {},
   "cell_type": "markdown",
   "metadata": {},
   "source": [
    "## BattETL"
   ]
  },
  {
   "cell_type": "code",
   "execution_count": null,
   "metadata": {},
   "outputs": [],
   "source": [
    "# Load config from file\n",
    "cell = BattETL(\n",
    "    config_path='config.json',\n",
    "    env_path=Path.cwd().parent.parent / '.env',\n",
    ")\n",
    "cell.extract().transform().load()"
   ]
  }
 ],
 "metadata": {
  "kernelspec": {
   "display_name": "Python 3",
   "language": "python",
   "name": "python3"
  },
  "language_info": {
   "codemirror_mode": {
    "name": "ipython",
    "version": 3
   },
   "file_extension": ".py",
   "mimetype": "text/x-python",
   "name": "python",
   "nbconvert_exporter": "python",
   "pygments_lexer": "ipython3",
   "version": "3.9.16"
  },
  "orig_nbformat": 4,
  "vscode": {
   "interpreter": {
    "hash": "f54a09067b3b39c08020ba62de49ef1b5797531639e0f5a035eda817dd5b8f25"
   }
  }
 },
 "nbformat": 4,
 "nbformat_minor": 2
}
